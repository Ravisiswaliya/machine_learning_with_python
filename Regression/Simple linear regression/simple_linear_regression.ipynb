{
 "cells": [
  {
   "cell_type": "code",
   "execution_count": 4,
   "metadata": {},
   "outputs": [
    {
     "name": "stdout",
     "output_type": "stream",
     "text": [
      "    YearsExperience    Salary\n",
      "0               1.1   39343.0\n",
      "1               1.3   46205.0\n",
      "2               1.5   37731.0\n",
      "3               2.0   43525.0\n",
      "4               2.2   39891.0\n",
      "5               2.9   56642.0\n",
      "6               3.0   60150.0\n",
      "7               3.2   54445.0\n",
      "8               3.2   64445.0\n",
      "9               3.7   57189.0\n",
      "10              3.9   63218.0\n",
      "11              4.0   55794.0\n",
      "12              4.0   56957.0\n",
      "13              4.1   57081.0\n",
      "14              4.5   61111.0\n",
      "15              4.9   67938.0\n",
      "16              5.1   66029.0\n",
      "17              5.3   83088.0\n",
      "18              5.9   81363.0\n",
      "19              6.0   93940.0\n",
      "20              6.8   91738.0\n",
      "21              7.1   98273.0\n",
      "22              7.9  101302.0\n",
      "23              8.2  113812.0\n",
      "24              8.7  109431.0\n",
      "25              9.0  105582.0\n",
      "26              9.5  116969.0\n",
      "27              9.6  112635.0\n",
      "28             10.3  122391.0\n",
      "29             10.5  121872.0\n"
     ]
    }
   ],
   "source": [
    "import pandas as pd  # importing pandas module \n",
    "\n",
    "#reading dataset\n",
    "data = pd.read_csv('salary.csv')\n",
    "print(data)"
   ]
  },
  {
   "cell_type": "code",
   "execution_count": 6,
   "metadata": {},
   "outputs": [
    {
     "name": "stdout",
     "output_type": "stream",
     "text": [
      "[[  1.1]\n",
      " [  1.3]\n",
      " [  1.5]\n",
      " [  2. ]\n",
      " [  2.2]\n",
      " [  2.9]\n",
      " [  3. ]\n",
      " [  3.2]\n",
      " [  3.2]\n",
      " [  3.7]\n",
      " [  3.9]\n",
      " [  4. ]\n",
      " [  4. ]\n",
      " [  4.1]\n",
      " [  4.5]\n",
      " [  4.9]\n",
      " [  5.1]\n",
      " [  5.3]\n",
      " [  5.9]\n",
      " [  6. ]\n",
      " [  6.8]\n",
      " [  7.1]\n",
      " [  7.9]\n",
      " [  8.2]\n",
      " [  8.7]\n",
      " [  9. ]\n",
      " [  9.5]\n",
      " [  9.6]\n",
      " [ 10.3]\n",
      " [ 10.5]]\n"
     ]
    }
   ],
   "source": [
    "x = data.iloc[:,:-1].values     #independent variable\n",
    "print(x)"
   ]
  },
  {
   "cell_type": "code",
   "execution_count": 7,
   "metadata": {},
   "outputs": [
    {
     "name": "stdout",
     "output_type": "stream",
     "text": [
      "[[  39343.]\n",
      " [  46205.]\n",
      " [  37731.]\n",
      " [  43525.]\n",
      " [  39891.]\n",
      " [  56642.]\n",
      " [  60150.]\n",
      " [  54445.]\n",
      " [  64445.]\n",
      " [  57189.]\n",
      " [  63218.]\n",
      " [  55794.]\n",
      " [  56957.]\n",
      " [  57081.]\n",
      " [  61111.]\n",
      " [  67938.]\n",
      " [  66029.]\n",
      " [  83088.]\n",
      " [  81363.]\n",
      " [  93940.]\n",
      " [  91738.]\n",
      " [  98273.]\n",
      " [ 101302.]\n",
      " [ 113812.]\n",
      " [ 109431.]\n",
      " [ 105582.]\n",
      " [ 116969.]\n",
      " [ 112635.]\n",
      " [ 122391.]\n",
      " [ 121872.]]\n"
     ]
    }
   ],
   "source": [
    "y = data.iloc[:,-1:].values\n",
    "print(y)"
   ]
  },
  {
   "cell_type": "code",
   "execution_count": 9,
   "metadata": {},
   "outputs": [],
   "source": [
    "# training & testing \n",
    "from sklearn.model_selection import train_test_split\n",
    "\n",
    "#here we are taking 20% data as testiing & 80% data as training data from our data set\n",
    "x_train,x_test,y_train,y_test = train_test_split(x,y, test_size=0.2, random_state = 0)"
   ]
  },
  {
   "cell_type": "code",
   "execution_count": 11,
   "metadata": {},
   "outputs": [
    {
     "data": {
      "text/plain": [
       "LinearRegression(copy_X=True, fit_intercept=True, n_jobs=1, normalize=False)"
      ]
     },
     "execution_count": 11,
     "metadata": {},
     "output_type": "execute_result"
    }
   ],
   "source": [
    "#removing unwanted warnings\n",
    "import warnings\n",
    "warnings.filterwarnings(action=\"ignore\", module=\"scipy\", message=\"^internal gelsd\")\n",
    "\n",
    "# implementing our model on Linear Regression algorithm\n",
    "from sklearn.linear_model import LinearRegression\n",
    "algo = LinearRegression()\n",
    "algo.fit(x_train,y_train)"
   ]
  },
  {
   "cell_type": "code",
   "execution_count": 15,
   "metadata": {},
   "outputs": [
    {
     "name": "stdout",
     "output_type": "stream",
     "text": [
      "Our Model is 0.988169515729 % accurate.\n"
     ]
    }
   ],
   "source": [
    "# checking accuracy\n",
    "accuracy = algo.score(x_test,y_test)\n",
    "print('Our Model is',accuracy,'% accurate.')"
   ]
  },
  {
   "cell_type": "code",
   "execution_count": 16,
   "metadata": {},
   "outputs": [
    {
     "name": "stdout",
     "output_type": "stream",
     "text": [
      "[[ 157156.15092484]]\n"
     ]
    }
   ],
   "source": [
    "#prediction using our trained model\n",
    "prediction = algo.predict(14)     # predicting the salary if anyone have 14 year's experience\n",
    "print(prediction)"
   ]
  },
  {
   "cell_type": "code",
   "execution_count": 19,
   "metadata": {},
   "outputs": [
    {
     "data": {
      "image/png": "[encoded data removed]",
      "text/plain": [
       "<matplotlib.figure.Figure at 0x106522080>"
      ]
     },
     "metadata": {},
     "output_type": "display_data"
    }
   ],
   "source": [
    "#visualization \n",
    "import matplotlib.pyplot as plt\n",
    "%matplotlib inline\n",
    "\n",
    "\n",
    "plt.scatter(x_train,y_train, color='black')\n",
    "plt.plot(x_train, algo.predict(x_train), color='blue')\n",
    "plt.title(\"Salary vs Experiance\")\n",
    "plt.xlabel('Salary')\n",
    "plt.ylabel('Experience in Years')\n",
    "plt.show()"
   ]
  },
  {
   "cell_type": "code",
   "execution_count": null,
   "metadata": {},
   "outputs": [],
   "source": [
    ""
   ]
  }
 ],
 "metadata": {
  "kernelspec": {
   "display_name": "Python 3",
   "language": "python",
   "name": "python3"
  },
  "language_info": {
   "codemirror_mode": {
    "name": "ipython",
    "version": 3.0
   },
   "file_extension": ".py",
   "mimetype": "text/x-python",
   "name": "python",
   "nbconvert_exporter": "python",
   "pygments_lexer": "ipython3",
   "version": "3.6.1"
  }
 },
 "nbformat": 4,
 "nbformat_minor": 0
}